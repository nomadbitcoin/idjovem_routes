{
 "cells": [
  {
   "cell_type": "code",
   "execution_count": 69,
   "metadata": {},
   "outputs": [],
   "source": [
    "from selenium import webdriver\n",
    "from selenium.webdriver.common.keys import Keys\n",
    "import bs4"
   ]
  },
  {
   "cell_type": "code",
   "execution_count": 5,
   "metadata": {},
   "outputs": [],
   "source": [
    "def openBrowser():\n",
    "    try:\n",
    "        global driver\n",
    "        driver = webdriver.Chrome(executable_path='../../webdriver/chromedriver')\n",
    "        driver.get('https://appweb.antt.gov.br/SGP/src.br.gov.antt/apresentacao/consultas/ListaLinhasFazemSecao2Localidade.aspx')\n",
    "        return True\n",
    "    except Exception as error:\n",
    "        print(type(error), error)\n",
    "        return False"
   ]
  },
  {
   "cell_type": "code",
   "execution_count": 362,
   "metadata": {},
   "outputs": [
    {
     "data": {
      "text/plain": [
       "True"
      ]
     },
     "execution_count": 362,
     "metadata": {},
     "output_type": "execute_result"
    }
   ],
   "source": [
    "openBrowser()"
   ]
  },
  {
   "cell_type": "code",
   "execution_count": 395,
   "metadata": {},
   "outputs": [],
   "source": [
    "# PEGA O ESTADO QUE ESTA SELECIONADO EM ORIGEM OU DESTINO\n",
    "def getSelectedState(origin_destiny):\n",
    "    htmlPage = bs4.BeautifulSoup(driver.page_source, features='html.parser')\n",
    "    try:\n",
    "        path_id = 'ddlUF' + origin_destiny\n",
    "        selected = htmlPage.find('select',{'id':path_id}).find('option', {'selected':'selected'}).text\n",
    "        return selected\n",
    "    except Exception as error:\n",
    "        print(type(error), error)\n",
    "        return None"
   ]
  },
  {
   "cell_type": "code",
   "execution_count": 392,
   "metadata": {},
   "outputs": [],
   "source": [
    "# SELECIONA O ESTADO\n",
    "def select_state(origin_destiny):\n",
    "    '''\n",
    "        Recebe \"Origem\" ou \"Destino\", ira percorrer um loop ate retornar um estado que nao esteja salvo\n",
    "    '''\n",
    "    \n",
    "    while True:\n",
    "        try:\n",
    "            #clica no botao opcoes de origem ou desino\n",
    "            path = '//select[@name=\"ddlUF'+ origin_destiny +'\"]'\n",
    "            state_button = driver.find_element_by_xpath(path)\n",
    "            state_button.click()\n",
    "            \n",
    "            #aperta a tecla down para navegar entre as opcoes\n",
    "            state_button.send_keys(Keys.DOWN)\n",
    "            state_button.send_keys(Keys.ENTER)\n",
    "            state = getSelectedState(origin_destiny)\n",
    "\n",
    "            #verifica se a opcao selecionada ja esta salva\n",
    "            if origin_destiny == 'Origem' and state not in savedOrigin.keys() and 'Selecione' not in str(state):\n",
    "                savedOrigin.setdefault(state, [])\n",
    "                return state\n",
    "            elif state not in savedDestiny.keys() and 'Selecione' not in str(state):\n",
    "                savedDestiny.setdefault(state, [])\n",
    "                return state\n",
    "        except Exception as error:\n",
    "            print(type(error), error)"
   ]
  },
  {
   "cell_type": "code",
   "execution_count": 394,
   "metadata": {},
   "outputs": [
    {
     "data": {
      "text/plain": [
       "'CEARA'"
      ]
     },
     "execution_count": 394,
     "metadata": {},
     "output_type": "execute_result"
    }
   ],
   "source": [
    "select_state('Destino')"
   ]
  },
  {
   "cell_type": "code",
   "execution_count": 369,
   "metadata": {},
   "outputs": [],
   "source": [
    "savedOrigin = {}\n",
    "savedDestiny = {}"
   ]
  },
  {
   "cell_type": "code",
   "execution_count": null,
   "metadata": {},
   "outputs": [],
   "source": []
  },
  {
   "cell_type": "code",
   "execution_count": null,
   "metadata": {},
   "outputs": [],
   "source": [
    "def main():\n",
    "    # EXTRAI TODOS OS ESTADOS, CADA ESTADO IRA RECEBER UMA LISTA DE CIDADES E SUAS ROTAS POSSIVEIS\n",
    "    global states\n",
    "    states = [{option.text: []} for option in options][1:] #o primeiro item da lista eh o \"selecione...\" entao excluimos"
   ]
  },
  {
   "cell_type": "code",
   "execution_count": 140,
   "metadata": {},
   "outputs": [],
   "source": [
    "main()"
   ]
  }
 ],
 "metadata": {
  "kernelspec": {
   "display_name": "Python 3",
   "language": "python",
   "name": "python3"
  },
  "language_info": {
   "codemirror_mode": {
    "name": "ipython",
    "version": 3
   },
   "file_extension": ".py",
   "mimetype": "text/x-python",
   "name": "python",
   "nbconvert_exporter": "python",
   "pygments_lexer": "ipython3",
   "version": "3.5.3"
  }
 },
 "nbformat": 4,
 "nbformat_minor": 2
}
